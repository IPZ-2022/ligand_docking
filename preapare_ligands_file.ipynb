{
 "cells": [
  {
   "cell_type": "code",
   "execution_count": 1,
   "metadata": {},
   "outputs": [],
   "source": [
    "from rdkit import Chem\n",
    "from rdkit.Chem import Descriptors, rdMolDescriptors, rdmolops, AllChem, DataStructs, Draw\n",
    "import pandas as pd\n",
    "import os\n",
    "import subprocess"
   ]
  },
  {
   "cell_type": "code",
   "execution_count": 17,
   "metadata": {},
   "outputs": [],
   "source": [
    "def readCSV(csv_file):\n",
    "    '''\n",
    "    Function which reads data from\n",
    "    csv file and return pandas dataframe\n",
    "    with ChEMBL ID, Smiles, Name and\n",
    "    #RO5 Violations\n",
    "    '''\n",
    "    df = pd.read_csv(csv_file)\n",
    "    return df\n",
    "\n",
    "def count_descriptors(s):\n",
    "    '''\n",
    "    Function which calculates descriptors for\n",
    "    each particle. It takes smiles and returns\n",
    "    dictionary with molecule as key and descriptors\n",
    "    as values\n",
    "    '''\n",
    "    \n",
    "    smiles = Chem.MolFromSmiles(s)\n",
    "    smiles = Chem.AddHs(smiles)\n",
    "    dictionary = {}\n",
    "    dictionary[\"mol_wt\"] = Chem.Descriptors.MolWt(smiles)#\"{:.2f}\".format(Chem.Descriptors.MolWt(smiles))\n",
    "    dictionary[\"log_p\"] = Descriptors.MolLogP(smiles)#\"{:.2f}\".format(Descriptors.MolLogP(smiles))\n",
    "    dictionary[\"HBD\"] = rdMolDescriptors.CalcNumHBD(smiles)\n",
    "    dictionary[\"HBA\"] = rdMolDescriptors.CalcNumHBA(smiles)\n",
    "    \n",
    "    return dictionary\n",
    "\n",
    "def create_table_descriptors(csv_file):\n",
    "    '''\n",
    "    Function which creates table which sums descriptors\n",
    "    As an input it takes file with smiles and returns\n",
    "    pandas dataframe with CHEMBL Id, smiles and descriptors\n",
    "    '''\n",
    "    \n",
    "    results = readCSV(csv_file)\n",
    "\n",
    "    smiles_tmp = list(results[\"SMILES\"])\n",
    "    pubchem_tmp = list(results[\"CID\"])\n",
    "    prob_tmp = list(results[\"probability\"])\n",
    "\n",
    "    mol_wt = []\n",
    "    log_p = []\n",
    "    HBD = []\n",
    "    HBA = []\n",
    "    smiles = []\n",
    "    pubchem = []\n",
    "    prob = []\n",
    "\n",
    "    for smile in smiles_tmp:\n",
    "        counter = count_descriptors(smile)\n",
    "        if counter[\"mol_wt\"] < 500 and counter[\"log_p\"] < 5 and counter[\"HBD\"] < 5 and counter[\"HBA\"] < 10:\n",
    "            mol_wt.append(counter[\"mol_wt\"])\n",
    "            log_p.append(counter[\"log_p\"])\n",
    "            HBD.append(counter[\"HBD\"])\n",
    "            HBA.append(counter[\"HBA\"])\n",
    "            smiles.append(smile)\n",
    "            idx = smiles_tmp.index(smile)\n",
    "            pubchem.append(pubchem_tmp[idx])\n",
    "            prob.append(prob_tmp[idx])\n",
    "\n",
    "    data = {}\n",
    "    data[\"Smiles\"] = smiles\n",
    "    data[\"Mol wt\"] = mol_wt\n",
    "    data[\"Log_p\"] = log_p\n",
    "    data[\"HBD\"] = HBD\n",
    "    data[\"HBA\"] = HBA\n",
    "    data[\"Pubchem ID\"] = pubchem\n",
    "    data[\"Probability\"] = prob\n",
    "    \n",
    "    df = pd.DataFrame(data)\n",
    "    \n",
    "    return df"
   ]
  },
  {
   "cell_type": "code",
   "execution_count": 18,
   "metadata": {},
   "outputs": [
    {
     "name": "stdout",
     "output_type": "stream",
     "text": [
      "                                              Smiles   Mol wt    Log_p  HBD  \\\n",
      "0  CC#CCOC1=CC=C(C=C1)S(=O)(=O)N2CCCN(CC2C(=O)NO)...  471.535  1.49950    2   \n",
      "1  CC#CCOC1=CC=C(C=C1)S(=O)(=O)N2CCCN(CC2C(=O)NO)...  457.552  1.85930    2   \n",
      "2  CC#CCOC1=CC=C(C=C1)S(=O)(=O)N2CC3C(C(C2C(=O)NO...  454.501  0.50210    2   \n",
      "3  CC(C)CC1C(OCCCCN2C=C(CC(NC1=O)C(=O)NC)C3=CC=CC...  458.559  1.76130    4   \n",
      "4  CC(C)C(CC1=CC(=C(C=C1)OC)OCCCOC)CC(C(CC(C)C(=O...  491.673  3.44968    3   \n",
      "\n",
      "   HBA  Pubchem ID  Probability  \n",
      "0    6    10183755     0.999986  \n",
      "1    6    44390323     0.999986  \n",
      "2    8    44286663     0.999984  \n",
      "3    6    11059553     0.999983  \n",
      "4    7    10345514     0.999983  \n"
     ]
    }
   ],
   "source": [
    "results = create_table_descriptors(\"./sorted-results-filtered-cid.csv\")\n",
    "\n",
    "print(results.head())"
   ]
  },
  {
   "cell_type": "code",
   "execution_count": 19,
   "metadata": {},
   "outputs": [
    {
     "name": "stdout",
     "output_type": "stream",
     "text": [
      "333736\n"
     ]
    }
   ],
   "source": [
    "print(len(results))"
   ]
  },
  {
   "cell_type": "code",
   "execution_count": 20,
   "metadata": {},
   "outputs": [],
   "source": [
    "results.to_csv(\"./results-lipinski.csv\")"
   ]
  }
 ],
 "metadata": {
  "interpreter": {
   "hash": "6c11de3e52048e103b0604df6b24f3b995d84e3e3075c75c9a08e4a5373439df"
  },
  "kernelspec": {
   "display_name": "Python 3.7.11 ('myenv')",
   "language": "python",
   "name": "python3"
  },
  "language_info": {
   "codemirror_mode": {
    "name": "ipython",
    "version": 3
   },
   "file_extension": ".py",
   "mimetype": "text/x-python",
   "name": "python",
   "nbconvert_exporter": "python",
   "pygments_lexer": "ipython3",
   "version": "3.7.11"
  },
  "orig_nbformat": 4
 },
 "nbformat": 4,
 "nbformat_minor": 2
}
